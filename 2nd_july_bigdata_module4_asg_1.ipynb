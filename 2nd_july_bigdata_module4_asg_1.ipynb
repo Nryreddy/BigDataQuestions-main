{
 "cells": [
  {
   "cell_type": "markdown",
   "id": "fec7a984",
   "metadata": {},
   "source": [
    "1. Write a Python program to check if a given string is an anagram."
   ]
  },
  {
   "cell_type": "code",
   "execution_count": 1,
   "id": "8c9688e2",
   "metadata": {},
   "outputs": [
    {
     "name": "stdout",
     "output_type": "stream",
     "text": [
      "enter the first string -care\n",
      "enter the second string -race\n",
      "given string is a anagram\n"
     ]
    }
   ],
   "source": [
    "def anagram(string1,string2):           #anagram function\n",
    "    list_str1 = []           \n",
    "    list_str1[:0] = string1     # splitting characters in string1 to list_str1\n",
    "    list_str1.sort()            # sorting the list\n",
    "    list_str2 = []\n",
    "    list_str2[:0] = string2\n",
    "    list_str2.sort()\n",
    "    if list_str1 == list_str2 :     # comparing both sorted lists\n",
    "        print('given string is a anagram')\n",
    "    else:\n",
    "        print('given string is not a anagram')\n",
    "    \n",
    "string1 = input('enter the first string -')\n",
    "string2 = input('enter the second string -')\n",
    "anagram(string1,string2)"
   ]
  },
  {
   "cell_type": "markdown",
   "id": "8f63e531",
   "metadata": {},
   "source": [
    "2. Write a Python program to find the maximum and minimum values in a\n",
    "dictionary."
   ]
  },
  {
   "cell_type": "code",
   "execution_count": 4,
   "id": "766dd3c6",
   "metadata": {},
   "outputs": [
    {
     "name": "stdout",
     "output_type": "stream",
     "text": [
      "Maximum value is = 100\n",
      "Minimum value is = 20\n"
     ]
    }
   ],
   "source": [
    "dictionary = {'a': 100, 'b': 20, 'c': 50, 'd': 100, 'e': 80}\n",
    "\n",
    "print('Maximum value is =',max(dictionary.values()))\n",
    "\n",
    "print('Minimum value is =',min(dictionary.values()))"
   ]
  },
  {
   "cell_type": "markdown",
   "id": "281c0480",
   "metadata": {},
   "source": [
    "3. Write a Python program to find the average of a list of numbers."
   ]
  },
  {
   "cell_type": "code",
   "execution_count": 3,
   "id": "60d63b52",
   "metadata": {},
   "outputs": [
    {
     "name": "stdout",
     "output_type": "stream",
     "text": [
      "77.14285714285714\n"
     ]
    }
   ],
   "source": [
    "list_of_num = [18,10,7,333,17,55,100] \n",
    "length = len(list_of_num)            # find the no of items in the list\n",
    "sums = sum(list_of_num)              # find the sum of all the numbers\n",
    "average = sums/length\n",
    "print(average)"
   ]
  },
  {
   "cell_type": "markdown",
   "id": "ac6d6cc2",
   "metadata": {},
   "source": [
    "4. Write a Python program to remove all vowels from a string."
   ]
  },
  {
   "cell_type": "code",
   "execution_count": 37,
   "id": "cc9a241f",
   "metadata": {},
   "outputs": [
    {
     "name": "stdout",
     "output_type": "stream",
     "text": [
      "enter a string - HI there how are you\n",
      "H thr hw r y\n"
     ]
    }
   ],
   "source": [
    "def remove_vowels(string):\n",
    "    rv_str_list = []\n",
    "    rv_str = ''\n",
    "    string_l = []\n",
    "    string_l[:0] = string\n",
    "    for i in string_l:\n",
    "        if i not in ['a','A','e','E','I','i','o','O','u','U']:\n",
    "            rv_str_list.append(i)\n",
    "    print(rv_str.join(rv_str_list))\n",
    "\n",
    "string = input('enter a string - ')\n",
    "remove_vowels(string)"
   ]
  },
  {
   "cell_type": "markdown",
   "id": "f37880d4",
   "metadata": {},
   "source": [
    "5. Write a Python function to calculate the factorial of a number using recursion."
   ]
  },
  {
   "cell_type": "code",
   "execution_count": 48,
   "id": "e7bf4f79",
   "metadata": {},
   "outputs": [
    {
     "name": "stdout",
     "output_type": "stream",
     "text": [
      "enter a number - 5\n",
      "120\n"
     ]
    }
   ],
   "source": [
    "def factorial(num):\n",
    "    if num == 1 or num == 0:\n",
    "        return 1\n",
    "    else:\n",
    "        return num*factorial(num-1)\n",
    "\n",
    "num = int(input('enter a number - '))\n",
    "ans = factorial(num)\n",
    "print(ans)"
   ]
  },
  {
   "cell_type": "markdown",
   "id": "ed7f5bbc",
   "metadata": {},
   "source": [
    "6. Write a Python program to merge two unsorted lists into a single sorted list\n",
    "using the merge sort algorithm."
   ]
  },
  {
   "cell_type": "code",
   "execution_count": 49,
   "id": "03439c6a",
   "metadata": {},
   "outputs": [
    {
     "name": "stdout",
     "output_type": "stream",
     "text": [
      "Merged & sorted list: [0, 1, 2, 3, 4, 5, 6, 7, 8, 9]\n"
     ]
    }
   ],
   "source": [
    "def merge_sort(arr):\n",
    "    if len(arr) <= 1:\n",
    "        return arr\n",
    "\n",
    "    mid = len(arr) // 2\n",
    "    left_half = arr[:mid]\n",
    "    right_half = arr[mid:]\n",
    "\n",
    "    left_half = merge_sort(left_half)\n",
    "    right_half = merge_sort(right_half)\n",
    "\n",
    "    return merge(left_half, right_half)\n",
    "\n",
    "\n",
    "def merge(left, right):\n",
    "    result = []\n",
    "    i = 0\n",
    "    j = 0\n",
    "\n",
    "    while i < len(left) and j < len(right):\n",
    "        if left[i] < right[j]:\n",
    "            result.append(left[i])\n",
    "            i += 1\n",
    "        else:\n",
    "            result.append(right[j])\n",
    "            j += 1\n",
    "\n",
    "    while i < len(left):\n",
    "        result.append(left[i])\n",
    "        i += 1\n",
    "\n",
    "    while j < len(right):\n",
    "        result.append(right[j])\n",
    "        j += 1\n",
    "\n",
    "    return result\n",
    "\n",
    "\n",
    "list1 = [9, 5, 2, 7, 1]\n",
    "list2 = [3, 6, 8, 4, 0]\n",
    "merged_list = merge_sort(list1 + list2)\n",
    "print(\"Merged & sorted list:\", merged_list)"
   ]
  },
  {
   "cell_type": "markdown",
   "id": "b5c48132",
   "metadata": {},
   "source": [
    "7. Write a Python program to find the GCD (Greatest Common Divisor) of two\n",
    "numbers."
   ]
  },
  {
   "cell_type": "code",
   "execution_count": 50,
   "id": "9594dc44",
   "metadata": {},
   "outputs": [
    {
     "name": "stdout",
     "output_type": "stream",
     "text": [
      "GCD of 72 and 48 is 24\n"
     ]
    }
   ],
   "source": [
    "def gcd(a, b):\n",
    "    while b != 0:\n",
    "        a, b = b, a % b          # The algorithm repeatedly divides a by b and assigns the remainder to a\n",
    "    return a\n",
    "\n",
    "num1 = 72\n",
    "num2 = 48\n",
    "\n",
    "gcd_value = gcd(num1, num2)\n",
    "print(\"GCD of\", num1, \"and\", num2, \"is\", gcd_value)"
   ]
  },
  {
   "cell_type": "markdown",
   "id": "ef2fe70f",
   "metadata": {},
   "source": [
    "8. Write a Python program to find the second-largest element in a list."
   ]
  },
  {
   "cell_type": "code",
   "execution_count": 51,
   "id": "d464e849",
   "metadata": {},
   "outputs": [
    {
     "name": "stdout",
     "output_type": "stream",
     "text": [
      "Second-largest element: 12\n"
     ]
    }
   ],
   "source": [
    "def find_second_largest(lst):\n",
    "    if len(lst) < 2:\n",
    "        return \"List should have at least two elements\"\n",
    "    \n",
    "    lst = list(set(lst))\n",
    "    return sorted(lst)[-2] if len(lst) >= 2 else \"No second-largest element found\"\n",
    "\n",
    "\n",
    "list1 = [5, 12, 8, 10, 3, 15, 2]\n",
    "second_largest = find_second_largest(list1)\n",
    "print(\"Second-largest element:\", second_largest)\n",
    "\n",
    " #the code converts the list to a set to remove duplicate elements. \n",
    " #Then, it uses the sorted function to sort the unique elements in ascending order. Finally, it retrieves the second-to-last element using the [-2] "
   ]
  },
  {
   "cell_type": "markdown",
   "id": "3518d804",
   "metadata": {},
   "source": [
    "9. Write a Python program to find the longest common subsequence between two\n",
    "strings using dynamic programming."
   ]
  },
  {
   "cell_type": "code",
   "execution_count": 56,
   "id": "c690c269",
   "metadata": {},
   "outputs": [
    {
     "name": "stdout",
     "output_type": "stream",
     "text": [
      "Enter first string: abcdbdab\n",
      "Enter second string: dabdab\n",
      "Longest Common Subsequence: dbdab"
     ]
    }
   ],
   "source": [
    "def lcs(u, v):\n",
    "    \"\"\"Return c where c[i][j] contains length of LCS of u[i:] and v[j:].\"\"\"\n",
    "    c = [[-1]*(len(v) + 1) for _ in range(len(u) + 1)]\n",
    " \n",
    "    for i in range(len(u) + 1):\n",
    "        c[i][len(v)] = 0\n",
    "    for j in range(len(v)):\n",
    "        c[len(u)][j] = 0\n",
    " \n",
    "    for i in range(len(u) - 1, -1, -1):\n",
    "        for j in range(len(v) - 1, -1, -1):\n",
    "            if u[i] == v[j]:\n",
    "                c[i][j] = 1 + c[i + 1][j + 1]\n",
    "            else:\n",
    "                c[i][j] = max(c[i + 1][j], c[i][j + 1])\n",
    " \n",
    "    return c\n",
    " \n",
    " \n",
    "def print_lcs(u, v, c):\n",
    "    \"\"\"Print one LCS of u and v using table c.\"\"\"\n",
    "    i = j = 0\n",
    "    while not (i == len(u) or j == len(v)):\n",
    "        if u[i] == v[j]:\n",
    "            print(u[i], end='')\n",
    "            i += 1\n",
    "            j += 1\n",
    "        elif c[i][j + 1] > c[i + 1][j]:\n",
    "            j += 1\n",
    "        else:\n",
    "            i += 1\n",
    " \n",
    " \n",
    "u = input('Enter first string: ')\n",
    "v = input('Enter second string: ')\n",
    "c = lcs(u, v)\n",
    "print('Longest Common Subsequence: ', end='')\n",
    "print_lcs(u, v, c)"
   ]
  }
 ],
 "metadata": {
  "kernelspec": {
   "display_name": "Python 3",
   "language": "python",
   "name": "python3"
  },
  "language_info": {
   "codemirror_mode": {
    "name": "ipython",
    "version": 3
   },
   "file_extension": ".py",
   "mimetype": "text/x-python",
   "name": "python",
   "nbconvert_exporter": "python",
   "pygments_lexer": "ipython3",
   "version": "3.8.8"
  }
 },
 "nbformat": 4,
 "nbformat_minor": 5
}
