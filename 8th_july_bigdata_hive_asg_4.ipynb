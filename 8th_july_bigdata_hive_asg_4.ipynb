{
 "cells": [
  {
   "cell_type": "markdown",
   "id": "7cdecaeb",
   "metadata": {},
   "source": [
    "1.  Write a Python program that uses the HiveQL language to create a table named \"Employees\" with columns for \"id,\" \"name,\" and \"salary.\"\n"
   ]
  },
  {
   "cell_type": "code",
   "execution_count": null,
   "id": "7b15af86",
   "metadata": {},
   "outputs": [],
   "source": [
    "from pyhive import hive\n",
    "\n",
    "conn = hive.connect(host='<hive_host>', port=<hive_port>, username='<username>')\n",
    "cursor = conn.cursor()\n",
    "\n",
    "create_table_query = '''\n",
    "    CREATE TABLE Employees (\n",
    "        id INT,\n",
    "        name STRING,\n",
    "        salary DOUBLE\n",
    "    )\n",
    "'''\n",
    "\n",
    "cursor.execute(create_table_query)\n",
    "conn.commit()\n",
    "\n",
    "cursor.close()\n",
    "conn.close()\n",
    "\n",
    "print(\"Table 'Employees' created successfully.\")\n"
   ]
  },
  {
   "cell_type": "markdown",
   "id": "8b333ad9",
   "metadata": {},
   "source": [
    "2.  Create a Python program that retrieves records from a Hive table named \"Customers\" where the age is greater than 30."
   ]
  },
  {
   "cell_type": "code",
   "execution_count": null,
   "id": "6f79f55a",
   "metadata": {},
   "outputs": [],
   "source": [
    "from pyhive import hive\n",
    "\n",
    "conn = hive.connect(host='<hive_host>', port=<hive_port>, username='<username>')\n",
    "cursor = conn.cursor()\n",
    "\n",
    "retrieve_records_query = '''\n",
    "    SELECT *\n",
    "    FROM Customers\n",
    "    WHERE age > 30\n",
    "'''\n",
    "\n",
    "cursor.execute(retrieve_records_query)\n",
    "records = cursor.fetchall()\n",
    "\n",
    "for record in records:\n",
    "    print(record)\n",
    "\n",
    "cursor.close()\n",
    "conn.close()\n"
   ]
  },
  {
   "cell_type": "markdown",
   "id": "f7423a4c",
   "metadata": {},
   "source": [
    "3.  Write a Python script that sorts records in descending order based on the \"timestamp\" column in a Hive table named \"Logs.\""
   ]
  },
  {
   "cell_type": "code",
   "execution_count": null,
   "id": "351cbdb0",
   "metadata": {},
   "outputs": [],
   "source": [
    "from pyhive import hive\n",
    "\n",
    "conn = hive.connect(host='<hive_host>', port=<hive_port>, username='<username>')\n",
    "cursor = conn.cursor()\n",
    "\n",
    "sort_records_query = '''\n",
    "    SELECT *\n",
    "    FROM Logs\n",
    "    ORDER BY timestamp DESC\n",
    "'''\n",
    "\n",
    "cursor.execute(sort_records_query)\n",
    "records = cursor.fetchall()\n",
    "\n",
    "for record in records:\n",
    "    print(record)\n",
    "\n",
    "cursor.close()\n",
    "conn.close()\n"
   ]
  },
  {
   "cell_type": "markdown",
   "id": "905192bf",
   "metadata": {},
   "source": [
    "4.  Write a Python program that connects to a Hive server using PyHive library and retrieves all records from a table named \"Products\".\n"
   ]
  },
  {
   "cell_type": "code",
   "execution_count": null,
   "id": "07cf53f8",
   "metadata": {},
   "outputs": [],
   "source": [
    "from pyhive import hive\n",
    "\n",
    "conn = hive.connect(host='<hive_host>', port=<hive_port>, username='<username>')\n",
    "cursor = conn.cursor()\n",
    "\n",
    "retrieve_records_query = '''\n",
    "    SELECT *\n",
    "    FROM Products\n",
    "'''\n",
    "\n",
    "cursor.execute(retrieve_records_query)\n",
    "records = cursor.fetchall()\n",
    "\n",
    "for record in records:\n",
    "    print(record)\n",
    "\n",
    "cursor.close()\n",
    "conn.close()\n"
   ]
  },
  {
   "cell_type": "markdown",
   "id": "ce1b3a9a",
   "metadata": {},
   "source": [
    "5.  Write a Python script that calculates the average salary of employees from a Hive table named \"Employees\"."
   ]
  },
  {
   "cell_type": "code",
   "execution_count": null,
   "id": "0f6a9eed",
   "metadata": {},
   "outputs": [],
   "source": [
    "from pyhive import hive\n",
    "\n",
    "conn = hive.connect(host='<hive_host>', port=<hive_port>, username='<username>')\n",
    "cursor = conn.cursor()\n",
    "\n",
    "calculate_average_salary_query = '''\n",
    "    SELECT AVG(salary) AS avg_salary\n",
    "    FROM Employees\n",
    "'''\n",
    "\n",
    "cursor.execute(calculate_average_salary_query)\n",
    "result = cursor.fetchone()\n",
    "\n",
    "average_salary = result[0]\n",
    "print(f\"Average Salary: {average_salary}\")\n",
    "\n",
    "cursor.close()\n",
    "conn.close()\n",
    "\n"
   ]
  },
  {
   "cell_type": "markdown",
   "id": "5ec14995",
   "metadata": {},
   "source": [
    "6.  Implement a Python program that uses Hive partitioning to create a partitioned table named \"Sales_Data\" based on the \"year\" and \"month\" columns."
   ]
  },
  {
   "cell_type": "code",
   "execution_count": null,
   "id": "28bcbd38",
   "metadata": {},
   "outputs": [],
   "source": [
    "from pyhive import hive\n",
    "\n",
    "conn = hive.connect(host='<hive_host>', port=<hive_port>, username='<username>')\n",
    "cursor = conn.cursor()\n",
    "\n",
    "create_partitioned_table_query = '''\n",
    "    CREATE TABLE Sales_Data (\n",
    "        id INT,\n",
    "        product STRING,\n",
    "        price DOUBLE\n",
    "    )\n",
    "    PARTITIONED BY (year INT, month INT)\n",
    "'''\n",
    "\n",
    "cursor.execute(create_partitioned_table_query)\n",
    "\n",
    "add_partitions_query = '''\n",
    "    ALTER TABLE Sales_Data\n",
    "    ADD PARTITION (year=2022, month=1)\n",
    "    ADD PARTITION (year=2022, month=2)\n",
    "    ADD PARTITION (year=2022, month=3)\n",
    "'''\n",
    "\n",
    "cursor.execute(add_partitions_query)\n",
    "conn.commit()\n",
    "\n",
    "cursor.close()\n",
    "conn.close()\n",
    "\n",
    "print(\"Partitioned table 'Sales_Data' created successfully.\")\n"
   ]
  },
  {
   "cell_type": "markdown",
   "id": "858832a7",
   "metadata": {},
   "source": [
    "8.  Create a Python program that performs an inner join between two Hive tables, \"Orders\" and \"Customers,\" based on a common column."
   ]
  },
  {
   "cell_type": "code",
   "execution_count": null,
   "id": "4b605876",
   "metadata": {},
   "outputs": [],
   "source": [
    "from pyhive import hive\n",
    "\n",
    "conn = hive.connect(host='<hive_host>', port=<hive_port>, username='<username>')\n",
    "cursor = conn.cursor()\n",
    "\n",
    "inner_join_query = '''\n",
    "    SELECT *\n",
    "    FROM Orders\n",
    "    INNER JOIN Customers ON Orders.customer_id = Customers.customer_id\n",
    "'''\n",
    "\n",
    "cursor.execute(inner_join_query)\n",
    "records = cursor.fetchall()\n",
    "\n",
    "for record in records:\n",
    "    print(record)\n",
    "\n",
    "cursor.close()\n",
    "conn.close()\n"
   ]
  },
  {
   "cell_type": "markdown",
   "id": "37457f22",
   "metadata": {},
   "source": [
    "9.  Implement a Python program that uses the Hive SerDe library to process JSON data stored in a Hive table named \"User_Activity_Logs.\""
   ]
  },
  {
   "cell_type": "code",
   "execution_count": null,
   "id": "93db1df6",
   "metadata": {},
   "outputs": [],
   "source": [
    "from pyhive import hive\n",
    "\n",
    "conn = hive.connect(host='<hive_host>', port=<hive_port>, username='<username>')\n",
    "cursor = conn.cursor()\n",
    "\n",
    "process_json_data_query = '''\n",
    "    SELECT *\n",
    "    FROM User_Activity_Logs\n",
    "'''\n",
    "\n",
    "cursor.execute(process_json_data_query)\n",
    "records = cursor.fetchall()\n",
    "\n",
    "for record in records:\n",
    "    json_data = record[0]\n",
    "    print(json_data)\n",
    "\n",
    "cursor.close()\n",
    "conn.close()\n"
   ]
  },
  {
   "cell_type": "code",
   "execution_count": null,
   "id": "8b2c5894",
   "metadata": {},
   "outputs": [],
   "source": []
  }
 ],
 "metadata": {
  "kernelspec": {
   "display_name": "Python 3",
   "language": "python",
   "name": "python3"
  },
  "language_info": {
   "codemirror_mode": {
    "name": "ipython",
    "version": 3
   },
   "file_extension": ".py",
   "mimetype": "text/x-python",
   "name": "python",
   "nbconvert_exporter": "python",
   "pygments_lexer": "ipython3",
   "version": "3.8.8"
  }
 },
 "nbformat": 4,
 "nbformat_minor": 5
}
