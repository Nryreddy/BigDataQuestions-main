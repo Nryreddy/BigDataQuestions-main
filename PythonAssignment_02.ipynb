{
 "cells": [
  {
   "cell_type": "markdown",
   "id": "42426502",
   "metadata": {},
   "source": [
    "# Q26. What is a string? How can we declare string in Python?"
   ]
  },
  {
   "cell_type": "raw",
   "source": [
    "String is a sequence of characters which should be enclosed within single or double quotes.\n",
    "we can declare string in python as follows:\n",
    "1) string_input = \"Big Data Program\"  2) String_input = 'Big Data Program'"
   ],
   "metadata": {
    "collapsed": false,
    "pycharm": {
     "name": "#%% raw\n"
    }
   }
  },
  {
   "cell_type": "markdown",
   "id": "9ed3bfc3",
   "metadata": {},
   "source": [
    "# Q27. How can we access the string using its index?"
   ]
  },
  {
   "cell_type": "code",
   "execution_count": 5,
   "id": "61d57c22",
   "metadata": {},
   "outputs": [
    {
     "name": "stdout",
     "output_type": "stream",
     "text": [
      "B\n",
      "Data \n",
      "Big Data Engineering\n"
     ]
    }
   ],
   "source": [
    "string_ip = \"Big Data Engineering\"\n",
    "print(string_ip[0])\n",
    "print(string_ip[4:9])\n",
    "print(string_ip[0:21])"
   ]
  },
  {
   "cell_type": "markdown",
   "id": "1dfa077f",
   "metadata": {},
   "source": [
    "# Q28. Write a code to get the desired output of the following"
   ]
  },
  {
   "cell_type": "code",
   "execution_count": 7,
   "id": "82c027dd",
   "metadata": {},
   "outputs": [
    {
     "name": "stdout",
     "output_type": "stream",
     "text": [
      "iNeuron\n"
     ]
    }
   ],
   "source": [
    "string = \"Big Data iNeuron\"\n",
    "desired_output = string[9:]\n",
    "print(desired_output)  # desired_output is \" iNeuron \""
   ]
  },
  {
   "cell_type": "markdown",
   "id": "fca50d41",
   "metadata": {},
   "source": [
    "# Q29. Write a code to get the desired output of the following"
   ]
  },
  {
   "cell_type": "code",
   "execution_count": 11,
   "id": "db7bdfe1",
   "metadata": {},
   "outputs": [
    {
     "name": "stdout",
     "output_type": "stream",
     "text": [
      "norueNi\n"
     ]
    }
   ],
   "source": [
    "string = \"Big Data iNeuron\"\n",
    "#desired_output = \"norueNi\"\n",
    "desired_output = string[-1:-8:-1]\n",
    "print(desired_output)"
   ]
  },
  {
   "cell_type": "markdown",
   "id": "75e7562a",
   "metadata": {},
   "source": [
    "# Q30. Resverse the string given in the above question"
   ]
  },
  {
   "cell_type": "code",
   "execution_count": 13,
   "id": "870d5ad2",
   "metadata": {},
   "outputs": [
    {
     "name": "stdout",
     "output_type": "stream",
     "text": [
      "norueNi ataD giB\n"
     ]
    }
   ],
   "source": [
    "string = \"Big Data iNeuron\"\n",
    "#desired_output = \"norueNi ataD giB\"\n",
    "desired_output = string[::-1]\n",
    "print(desired_output)"
   ]
  },
  {
   "cell_type": "markdown",
   "id": "40a5b847",
   "metadata": {},
   "source": [
    "# Q31. How can you delete entire string at once?"
   ]
  },
  {
   "cell_type": "code",
   "execution_count": 6,
   "id": "bf9df8b8",
   "metadata": {},
   "outputs": [
    {
     "name": "stdout",
     "output_type": "stream",
     "text": [
      "Big Data Program\n"
     ]
    },
    {
     "ename": "NameError",
     "evalue": "name 'string_input' is not defined",
     "output_type": "error",
     "traceback": [
      "\u001B[1;31m---------------------------------------------------------------------------\u001B[0m",
      "\u001B[1;31mNameError\u001B[0m                                 Traceback (most recent call last)",
      "\u001B[1;32mC:\\Users\\SHIVAR~1\\AppData\\Local\\Temp/ipykernel_7908/90329957.py\u001B[0m in \u001B[0;36m<module>\u001B[1;34m\u001B[0m\n\u001B[0;32m      2\u001B[0m \u001B[0mprint\u001B[0m\u001B[1;33m(\u001B[0m\u001B[0mstring_input\u001B[0m\u001B[1;33m)\u001B[0m\u001B[1;33m\u001B[0m\u001B[1;33m\u001B[0m\u001B[0m\n\u001B[0;32m      3\u001B[0m \u001B[1;32mdel\u001B[0m \u001B[0mstring_input\u001B[0m\u001B[1;33m\u001B[0m\u001B[1;33m\u001B[0m\u001B[0m\n\u001B[1;32m----> 4\u001B[1;33m \u001B[0mprint\u001B[0m\u001B[1;33m(\u001B[0m\u001B[0mstring_input\u001B[0m\u001B[1;33m)\u001B[0m\u001B[1;33m\u001B[0m\u001B[1;33m\u001B[0m\u001B[0m\n\u001B[0m",
      "\u001B[1;31mNameError\u001B[0m: name 'string_input' is not defined"
     ]
    }
   ],
   "source": [
    "#  by using del\n",
    "string_input = \"Big Data Program\"\n",
    "print(string_input)\n",
    "del string_input\n",
    "print(string_input)"
   ]
  },
  {
   "cell_type": "markdown",
   "id": "83a73057",
   "metadata": {},
   "source": [
    "# Q32. What is escape sequence?"
   ]
  },
  {
   "cell_type": "raw",
   "id": "49411ef8",
   "metadata": {
    "pycharm": {
     "name": "#%% raw\n"
    }
   },
   "source": [
    "Escape sequence is a sequence of characters which is used inside a character or string, does not represent itself but is converted into another character or series of characters i.e, (\\n, \\t, etc)"
   ]
  },
  {
   "cell_type": "markdown",
   "id": "4c5ed43b",
   "metadata": {},
   "source": [
    "# Q33. How can you print the below string?\n",
    "\n",
    "'iNeuron's Big Data Course'"
   ]
  },
  {
   "cell_type": "code",
   "execution_count": 16,
   "id": "bdc19bfc",
   "metadata": {},
   "outputs": [
    {
     "name": "stdout",
     "output_type": "stream",
     "text": [
      "'iNeuron's Big Data Course'\n"
     ]
    }
   ],
   "source": [
    "string_input = \"\\'iNeuron\\'s Big Data Course'\"\n",
    "print(string_input)"
   ]
  },
  {
   "cell_type": "markdown",
   "id": "dccc3d38",
   "metadata": {},
   "source": [
    "# Q34. What is a list in Python?"
   ]
  },
  {
   "cell_type": "raw",
   "id": "155aea52",
   "metadata": {
    "pycharm": {
     "name": "#%% raw\n"
    }
   },
   "source": [
    "List is a data structure which is a  collection of heterogenous data elements, enclosed within [].\n",
    "List are mutable(they can be changed)"
   ]
  },
  {
   "cell_type": "markdown",
   "id": "a8d5e049",
   "metadata": {},
   "source": [
    "# Q35. How can you create a list in Python?"
   ]
  },
  {
   "cell_type": "raw",
   "id": "d50fc2a7",
   "metadata": {
    "pycharm": {
     "name": "#%% raw\n"
    }
   },
   "source": [
    "List can be created in multiple ways.\n",
    "list_input = list()\n",
    "list_input = []"
   ]
  },
  {
   "cell_type": "markdown",
   "id": "0d27f8d3",
   "metadata": {},
   "source": [
    "#  Q36. How can we access the elements in a list?"
   ]
  },
  {
   "cell_type": "code",
   "execution_count": 17,
   "id": "d6185eff",
   "metadata": {},
   "outputs": [
    {
     "name": "stdout",
     "output_type": "stream",
     "text": [
      "one\n"
     ]
    }
   ],
   "source": [
    "# Elements in the list can be accessed by using index value of given list.\n",
    "list_input = [\"one\", \"two\", \"three\"]\n",
    "print(list_input[0])"
   ]
  },
  {
   "cell_type": "markdown",
   "id": "ae470321",
   "metadata": {},
   "source": [
    "# Q37. Write a code to access the word \"iNeuron\" from the given list.\n"
   ]
  },
  {
   "cell_type": "code",
   "execution_count": 18,
   "id": "b679234b",
   "metadata": {},
   "outputs": [
    {
     "name": "stdout",
     "output_type": "stream",
     "text": [
      "iNeuron\n"
     ]
    }
   ],
   "source": [
    "lst = [1,2,3,\"Hi\",[45,54, \"iNeuron\"], \"Big Data\"]\n",
    "print(lst[4][2])"
   ]
  },
  {
   "cell_type": "markdown",
   "id": "8c587ff8",
   "metadata": {},
   "source": [
    "# Q38. Take a list as an input from the user and find the length of the list."
   ]
  },
  {
   "cell_type": "code",
   "execution_count": 19,
   "id": "dda97e5c",
   "metadata": {},
   "outputs": [
    {
     "name": "stdout",
     "output_type": "stream",
     "text": [
      "6\n"
     ]
    }
   ],
   "source": [
    "lst = [1,2,3,\"Hi\",[45,54, \"iNeuron\"], \"Big Data\"]\n",
    "print(len(lst))"
   ]
  },
  {
   "cell_type": "markdown",
   "id": "a37268a9",
   "metadata": {},
   "source": [
    "# Q39. Add the word \"Big\" in the 3rd index of the given list.\n",
    "\n",
    "lst = [\"Welcome\", \"to\", \"Data\", \"course\"]"
   ]
  },
  {
   "cell_type": "code",
   "execution_count": 20,
   "id": "5162ed62",
   "metadata": {},
   "outputs": [
    {
     "name": "stdout",
     "output_type": "stream",
     "text": [
      "['Welcome', 'to', 'Big', 'Data', 'course']\n"
     ]
    }
   ],
   "source": [
    "lst = [\"Welcome\", \"to\", \"Data\", \"course\"]\n",
    "lst.insert(2,\"Big\")\n",
    "print(lst)"
   ]
  },
  {
   "cell_type": "markdown",
   "id": "7656b823",
   "metadata": {},
   "source": [
    "# Q40, 42. What is a tuple? How is it different from list? and try to add your name in the tuple. Are you able to do it? Support your answer with reason."
   ]
  },
  {
   "cell_type": "raw",
   "id": "d0bc5fa2",
   "metadata": {
    "pycharm": {
     "name": "#%% raw\n"
    }
   },
   "source": [
    "Tuples are immutable but list is mutable(i.e the elements in tuple cannot be changed once it is assigned,\n",
    "but if the elements is mutable datatype it can be changed)"
   ]
  },
  {
   "cell_type": "code",
   "execution_count": 27,
   "id": "d0656b9f",
   "metadata": {},
   "outputs": [
    {
     "ename": "TypeError",
     "evalue": "'tuple' object does not support item assignment",
     "output_type": "error",
     "traceback": [
      "\u001B[1;31m---------------------------------------------------------------------------\u001B[0m",
      "\u001B[1;31mTypeError\u001B[0m                                 Traceback (most recent call last)",
      "\u001B[1;32m<ipython-input-27-0530d9b1505b>\u001B[0m in \u001B[0;36m<module>\u001B[1;34m\u001B[0m\n\u001B[0;32m      1\u001B[0m \u001B[0mtuple_input\u001B[0m \u001B[1;33m=\u001B[0m \u001B[1;33m(\u001B[0m\u001B[1;36m1\u001B[0m\u001B[1;33m,\u001B[0m \u001B[1;36m3\u001B[0m\u001B[1;33m,\u001B[0m \u001B[1;36m5\u001B[0m\u001B[1;33m,\u001B[0m \u001B[1;36m7\u001B[0m\u001B[1;33m)\u001B[0m\u001B[1;33m\u001B[0m\u001B[1;33m\u001B[0m\u001B[0m\n\u001B[1;32m----> 2\u001B[1;33m \u001B[0mtuple_input\u001B[0m\u001B[1;33m[\u001B[0m\u001B[1;36m2\u001B[0m\u001B[1;33m]\u001B[0m \u001B[1;33m=\u001B[0m \u001B[1;36m2\u001B[0m\u001B[1;33m\u001B[0m\u001B[1;33m\u001B[0m\u001B[0m\n\u001B[0m\u001B[0;32m      3\u001B[0m \u001B[0mprint\u001B[0m\u001B[1;33m(\u001B[0m\u001B[0mtuple_input\u001B[0m\u001B[1;33m)\u001B[0m    \u001B[1;31m#  type error wil be raised\u001B[0m\u001B[1;33m\u001B[0m\u001B[1;33m\u001B[0m\u001B[0m\n",
      "\u001B[1;31mTypeError\u001B[0m: 'tuple' object does not support item assignment"
     ]
    }
   ],
   "source": [
    "tuple_input = (1, 3, 5, 7)\n",
    "tuple_input[2] = 2\n",
    "print(tuple_input)    #  type error wil be raised"
   ]
  },
  {
   "cell_type": "code",
   "execution_count": 22,
   "id": "ecfde2da",
   "metadata": {},
   "outputs": [
    {
     "name": "stdout",
     "output_type": "stream",
     "text": [
      "5\n",
      "(1, 3, 5, [7, 9, 11, 'two'])\n"
     ]
    }
   ],
   "source": [
    "tuple_input = (1, 3, 5, [7, 9, 11, \"one\"])\n",
    "tuple_input[3][3] = \"two\"\n",
    "print(tuple_input[2])\n",
    "print(tuple_input)"
   ]
  },
  {
   "cell_type": "markdown",
   "id": "2b16654b",
   "metadata": {},
   "source": [
    "# Q41. How can you create a tuple in Python?"
   ]
  },
  {
   "cell_type": "code",
   "execution_count": 26,
   "id": "3b245878",
   "metadata": {},
   "outputs": [
    {
     "name": "stdout",
     "output_type": "stream",
     "text": [
      "() ()\n"
     ]
    }
   ],
   "source": [
    "tuple_input = tuple()\n",
    "tuple_input_02 = ()\n",
    "print(tuple_input,tuple_input_02)"
   ]
  },
  {
   "cell_type": "markdown",
   "id": "df1bab1f",
   "metadata": {},
   "source": [
    "# Q43. Can two tuple be appended. If yes, write a code for it. If not, why?"
   ]
  },
  {
   "cell_type": "code",
   "execution_count": 28,
   "id": "1b961055",
   "metadata": {},
   "outputs": [
    {
     "name": "stdout",
     "output_type": "stream",
     "text": [
      "(1, 23, 6, 67, 98, 32)\n"
     ]
    }
   ],
   "source": [
    "# As Tuples are immutable in python, elements cannot be appended but we concatenate the elements\n",
    "t = (1, 23, 6) + (67, 98, 32)\n",
    "print(t)"
   ]
  },
  {
   "cell_type": "markdown",
   "id": "37c09cc6",
   "metadata": {},
   "source": [
    "# Q44. Take a tuple as an input and print the count of elements in it."
   ]
  },
  {
   "cell_type": "code",
   "execution_count": 31,
   "id": "303401f4",
   "metadata": {},
   "outputs": [
    {
     "name": "stdout",
     "output_type": "stream",
     "text": [
      "9\n"
     ]
    }
   ],
   "source": [
    "tuple_input = (81,2,4, 45, 46, 88, 9,23,15)\n",
    "print(len(tuple_input))"
   ]
  },
  {
   "cell_type": "markdown",
   "id": "9dfc08cc",
   "metadata": {},
   "source": [
    "# Q45. What are sets in Python?"
   ]
  },
  {
   "cell_type": "raw",
   "id": "b93f5776",
   "metadata": {
    "pycharm": {
     "name": "#%% raw\n"
    }
   },
   "source": [
    "Set is unordered collection of items in which every elements are unique(no duplicates)"
   ]
  },
  {
   "cell_type": "markdown",
   "id": "9adacc88",
   "metadata": {},
   "source": [
    "# Q46. How can you create a set?"
   ]
  },
  {
   "cell_type": "code",
   "execution_count": 35,
   "id": "82a7867b",
   "metadata": {},
   "outputs": [
    {
     "name": "stdout",
     "output_type": "stream",
     "text": [
      "{'3', '2', '1'}\n"
     ]
    }
   ],
   "source": [
    "input_set = {\"1\", \"3\",\"2\", \"3\",\"1\"}\n",
    "print(input_set)"
   ]
  },
  {
   "cell_type": "markdown",
   "id": "3030d8d7",
   "metadata": {},
   "source": [
    "# Q47. Create a set and add \"iNeuron\" in your set."
   ]
  },
  {
   "cell_type": "code",
   "execution_count": 36,
   "id": "a9dd26b6",
   "metadata": {},
   "outputs": [
    {
     "name": "stdout",
     "output_type": "stream",
     "text": [
      "{'3', '2', '1', 'iNeuron'}\n"
     ]
    }
   ],
   "source": [
    "input_set = {\"1\", \"2\", \"3\"}\n",
    "input_set.add(\"iNeuron\")\n",
    "print(input_set)"
   ]
  },
  {
   "cell_type": "markdown",
   "id": "abe32fde",
   "metadata": {},
   "source": [
    "# Q48. Try to add multiple values using add() function."
   ]
  },
  {
   "cell_type": "code",
   "execution_count": 37,
   "id": "ab255dbc",
   "metadata": {},
   "outputs": [
    {
     "ename": "TypeError",
     "evalue": "add() takes exactly one argument (3 given)",
     "output_type": "error",
     "traceback": [
      "\u001B[1;31m---------------------------------------------------------------------------\u001B[0m",
      "\u001B[1;31mTypeError\u001B[0m                                 Traceback (most recent call last)",
      "\u001B[1;32m<ipython-input-37-df05fa31ca7b>\u001B[0m in \u001B[0;36m<module>\u001B[1;34m\u001B[0m\n\u001B[0;32m      1\u001B[0m \u001B[1;31m# It gives error because only one value could be given to set\u001B[0m\u001B[1;33m\u001B[0m\u001B[1;33m\u001B[0m\u001B[1;33m\u001B[0m\u001B[0m\n\u001B[0;32m      2\u001B[0m \u001B[0minput_set\u001B[0m \u001B[1;33m=\u001B[0m \u001B[1;33m{\u001B[0m\u001B[1;34m\"one\"\u001B[0m\u001B[1;33m,\u001B[0m \u001B[1;34m\"two\"\u001B[0m\u001B[1;33m,\u001B[0m \u001B[1;34m\"three\"\u001B[0m\u001B[1;33m}\u001B[0m\u001B[1;33m\u001B[0m\u001B[1;33m\u001B[0m\u001B[0m\n\u001B[1;32m----> 3\u001B[1;33m \u001B[0minput_set\u001B[0m\u001B[1;33m.\u001B[0m\u001B[0madd\u001B[0m\u001B[1;33m(\u001B[0m\u001B[1;34m\"four\"\u001B[0m\u001B[1;33m,\u001B[0m\u001B[1;34m\"five\"\u001B[0m\u001B[1;33m,\u001B[0m\u001B[1;34m\"six\"\u001B[0m\u001B[1;33m)\u001B[0m\u001B[1;33m\u001B[0m\u001B[1;33m\u001B[0m\u001B[0m\n\u001B[0m\u001B[0;32m      4\u001B[0m \u001B[0mprint\u001B[0m\u001B[1;33m(\u001B[0m\u001B[0minput_set\u001B[0m\u001B[1;33m)\u001B[0m\u001B[1;33m\u001B[0m\u001B[1;33m\u001B[0m\u001B[0m\n",
      "\u001B[1;31mTypeError\u001B[0m: add() takes exactly one argument (3 given)"
     ]
    }
   ],
   "source": [
    "# It gives error because only one value could be given to set\n",
    "input_set = {\"one\", \"two\", \"three\"}\n",
    "input_set.add(\"four\",\"five\",\"six\")\n",
    "print(input_set)"
   ]
  },
  {
   "cell_type": "markdown",
   "id": "fa76e453",
   "metadata": {},
   "source": [
    "# Q49. How is update() different from add()?"
   ]
  },
  {
   "cell_type": "code",
   "execution_count": 38,
   "id": "18b2bd39",
   "metadata": {},
   "outputs": [
    {
     "name": "stdout",
     "output_type": "stream",
     "text": [
      "{'one', 'four', 'two', 'three'}\n",
      "{'four', 'one', 'six', 'two', 'five', 'three'}\n"
     ]
    }
   ],
   "source": [
    "#Main difference between update() and add() is add() takes only one value at a time but update() takes multiple values with another set defined.\n",
    "input_set = {\"one\", \"two\", \"three\"}\n",
    "input_set.add(\"four\")\n",
    "print(input_set)\n",
    "\n",
    "update_set = {\"one\", \"two\", \"three\"}\n",
    "update_set_01 = {\"four\",\"five\",\"six\"}\n",
    "update_set.update(update_set_01)\n",
    "print(update_set)\n"
   ]
  },
  {
   "cell_type": "markdown",
   "id": "fb591f75",
   "metadata": {},
   "source": [
    "# Q50. What is clear() in sets?"
   ]
  },
  {
   "cell_type": "code",
   "execution_count": 39,
   "id": "c1982456",
   "metadata": {},
   "outputs": [
    {
     "name": "stdout",
     "output_type": "stream",
     "text": [
      "{'one', 'two', 'three'}\n",
      "set()\n"
     ]
    }
   ],
   "source": [
    "# clear() removes all the elements in the set.\n",
    "clear_set = {\"one\", \"two\", \"three\"}\n",
    "print(clear_set)\n",
    "clear_set.clear()\n",
    "print(clear_set)"
   ]
  },
  {
   "cell_type": "markdown",
   "id": "66c49d10",
   "metadata": {},
   "source": [
    "# Q51. What is frozen set?"
   ]
  },
  {
   "cell_type": "code",
   "execution_count": 40,
   "id": "f864b513",
   "metadata": {},
   "outputs": [
    {
     "ename": "AttributeError",
     "evalue": "'frozenset' object has no attribute 'add'",
     "output_type": "error",
     "traceback": [
      "\u001B[1;31m---------------------------------------------------------------------------\u001B[0m",
      "\u001B[1;31mAttributeError\u001B[0m                            Traceback (most recent call last)",
      "\u001B[1;32m<ipython-input-40-2867aec5a524>\u001B[0m in \u001B[0;36m<module>\u001B[1;34m\u001B[0m\n\u001B[0;32m      7\u001B[0m \u001B[0mfrozen_set_02\u001B[0m \u001B[1;33m=\u001B[0m \u001B[0mfrozenset\u001B[0m\u001B[1;33m(\u001B[0m\u001B[1;33m[\u001B[0m\u001B[1;36m3\u001B[0m\u001B[1;33m,\u001B[0m\u001B[1;36m4\u001B[0m\u001B[1;33m,\u001B[0m\u001B[1;36m5\u001B[0m\u001B[1;33m,\u001B[0m\u001B[1;36m6\u001B[0m\u001B[1;33m]\u001B[0m\u001B[1;33m)\u001B[0m\u001B[1;33m\u001B[0m\u001B[1;33m\u001B[0m\u001B[0m\n\u001B[0;32m      8\u001B[0m \u001B[1;33m\u001B[0m\u001B[0m\n\u001B[1;32m----> 9\u001B[1;33m \u001B[0mfrozen_set_01\u001B[0m\u001B[1;33m.\u001B[0m\u001B[0madd\u001B[0m\u001B[1;33m(\u001B[0m\u001B[1;36m5\u001B[0m\u001B[1;33m)\u001B[0m\u001B[1;33m\u001B[0m\u001B[1;33m\u001B[0m\u001B[0m\n\u001B[0m\u001B[0;32m     10\u001B[0m \u001B[0mprint\u001B[0m\u001B[1;33m(\u001B[0m\u001B[0mfrozen_set_01\u001B[0m\u001B[1;33m[\u001B[0m\u001B[1;36m1\u001B[0m\u001B[1;33m]\u001B[0m\u001B[1;33m)\u001B[0m\u001B[1;33m\u001B[0m\u001B[1;33m\u001B[0m\u001B[0m\n\u001B[0;32m     11\u001B[0m \u001B[1;33m\u001B[0m\u001B[0m\n",
      "\u001B[1;31mAttributeError\u001B[0m: 'frozenset' object has no attribute 'add'"
     ]
    }
   ],
   "source": [
    "# frozen set has the charcteristics of sets, but frozen set cannot be changed once it is assigned i.e, elements can be \n",
    "# only added during creation of a frozenset object.\n",
    "# frozen set supports methods like copy(), difference(), intersection(), isdisjoint(), issubset(), issuperset(),\n",
    "# symmetric_difference, issuperset() and union()\n",
    "\n",
    "frozen_set_01 = frozenset([1,2,3,4,5])\n",
    "frozen_set_02 = frozenset([3,4,5,6])\n",
    "\n",
    "frozen_set_01.add(5)\n",
    "print(frozen_set_01[1])\n"
   ]
  },
  {
   "cell_type": "markdown",
   "id": "d0de36dd",
   "metadata": {},
   "source": [
    "# Q52. How is frozen set different from set?"
   ]
  },
  {
   "cell_type": "raw",
   "id": "f8285570",
   "metadata": {
    "pycharm": {
     "name": "#%% raw\n"
    }
   },
   "source": [
    "Sets which is mutable are unhashable, so sets cannot be used as dictionary keys\n",
    "frozensets(immutable) are hashable and can be used as dictionary keys"
   ]
  },
  {
   "cell_type": "markdown",
   "id": "315315c8",
   "metadata": {},
   "source": [
    "# Q53. What is union() in sets? Explain via code."
   ]
  },
  {
   "cell_type": "code",
   "execution_count": 41,
   "id": "329935c9",
   "metadata": {},
   "outputs": [
    {
     "name": "stdout",
     "output_type": "stream",
     "text": [
      "{1, 2, 3, 4, 5, 6}\n"
     ]
    }
   ],
   "source": [
    "# union() in sets returns a new set with distinct elements present in given sets\n",
    "set_01 = { 1,2,3,4,5 }\n",
    "set_02 = { 3,4,5,6 }\n",
    "print(set_01.union(set_02))"
   ]
  },
  {
   "cell_type": "markdown",
   "id": "867c6e98",
   "metadata": {},
   "source": [
    "# Q54. What is intersection() in sets? Explain via code."
   ]
  },
  {
   "cell_type": "code",
   "execution_count": 42,
   "id": "8bd37c0b",
   "metadata": {},
   "outputs": [
    {
     "name": "stdout",
     "output_type": "stream",
     "text": [
      "{3, 4, 5}\n"
     ]
    }
   ],
   "source": [
    "# intersection() in sets returns a new set with same elements present in given sets\n",
    "set_01 = { 1,2,3,4,5 }\n",
    "set_02 = { 3,4,5,6 }\n",
    "print(set_01.intersection(set_02))"
   ]
  },
  {
   "cell_type": "markdown",
   "id": "4a2c9053",
   "metadata": {},
   "source": [
    "# Q55. What is dictionary in Python?"
   ]
  },
  {
   "cell_type": "raw",
   "id": "4b353d26",
   "metadata": {
    "pycharm": {
     "name": "#%% raw\n"
    }
   },
   "source": [
    "Dictionary is an unordered collection of items( items are a key,value pair)."
   ]
  },
  {
   "cell_type": "markdown",
   "id": "292622a5",
   "metadata": {},
   "source": [
    "# Q56. How is dictionary different from all other data structures."
   ]
  },
  {
   "cell_type": "raw",
   "id": "86677f0d",
   "metadata": {
    "pycharm": {
     "name": "#%% raw\n"
    }
   },
   "source": [
    "In dictionary the values is given in form of key and value pair but other data structures have only one value as an element"
   ]
  },
  {
   "cell_type": "markdown",
   "id": "779d059f",
   "metadata": {},
   "source": [
    "# Q57. How can we delare a dictionary in Python?"
   ]
  },
  {
   "cell_type": "code",
   "execution_count": 44,
   "id": "5a8713f1",
   "metadata": {},
   "outputs": [
    {
     "name": "stdout",
     "output_type": "stream",
     "text": [
      "{} {}\n"
     ]
    }
   ],
   "source": [
    "new_dict = {}\n",
    "new_dict_01 = dict()\n",
    "print(new_dict,new_dict_01)"
   ]
  },
  {
   "cell_type": "markdown",
   "id": "928a2bcc",
   "metadata": {},
   "source": [
    "# Q58. What will the output of the following?\n",
    "var = {}\n",
    "print(type(var))"
   ]
  },
  {
   "cell_type": "code",
   "execution_count": 46,
   "id": "84e3c6ba",
   "metadata": {
    "scrolled": true
   },
   "outputs": [
    {
     "name": "stdout",
     "output_type": "stream",
     "text": [
      "<class 'dict'>\n"
     ]
    }
   ],
   "source": [
    "var = {}\n",
    "print(type(var))   # return the type of the var"
   ]
  },
  {
   "cell_type": "markdown",
   "id": "921caba6",
   "metadata": {},
   "source": [
    "# Q59. How can we add an element in a dictionary?"
   ]
  },
  {
   "cell_type": "code",
   "execution_count": 48,
   "id": "b00e8660",
   "metadata": {},
   "outputs": [
    {
     "name": "stdout",
     "output_type": "stream",
     "text": [
      "{'name': 'abc', 'skills': ['python', 'java'], 'email': 'abc@gmail.com'}\n"
     ]
    }
   ],
   "source": [
    "add_dict = {\"name\": \"abc\",\"skills\":[\"python\", \"java\"]}\n",
    "add_dict['email'] = \"abc@gmail.com\"\n",
    "print(add_dict)"
   ]
  },
  {
   "cell_type": "markdown",
   "id": "7e8671d5",
   "metadata": {},
   "source": [
    "# Q60. Create a dictionary and access all the values in that dictionary."
   ]
  },
  {
   "cell_type": "code",
   "execution_count": 50,
   "id": "753a5c24",
   "metadata": {},
   "outputs": [
    {
     "name": "stdout",
     "output_type": "stream",
     "text": [
      "js\n",
      "['python', 'scala']\n"
     ]
    }
   ],
   "source": [
    "input_dict = {\n",
    "    \"name\": \"js\",\n",
    "    \"skills\":[\"python\", \"scala\"]\n",
    "}\n",
    "for val in input_dict.values():\n",
    "    print(val)"
   ]
  },
  {
   "cell_type": "markdown",
   "id": "dd3a1c90",
   "metadata": {},
   "source": [
    "# Q61. Create a nested dictionary and access all the element in the inner dictionary."
   ]
  },
  {
   "cell_type": "code",
   "execution_count": 51,
   "id": "f8c758e4",
   "metadata": {},
   "outputs": [
    {
     "name": "stdout",
     "output_type": "stream",
     "text": [
      "{'name': 'abc', 'email': 'abc@gmail.com'}\n",
      "{'name': 'xyz', 'email': 'xyz@gmail.com'}\n"
     ]
    }
   ],
   "source": [
    "input_dict = {\n",
    "    \"college_details\":{\n",
    "        \"name\":\"abc\",\n",
    "        \"email\": \"abc@gmail.com\"\n",
    "    },\n",
    "    \"student_details\":{\n",
    "        \"name\":\"xyz\",\n",
    "        \"email\": \"xyz@gmail.com\"\n",
    "    } \n",
    "}\n",
    "print(input_dict['college_details'])\n",
    "print(input_dict['student_details'])"
   ]
  },
  {
   "cell_type": "markdown",
   "id": "c7c45a0d",
   "metadata": {},
   "source": [
    "# Q62. What is the use of get() function?"
   ]
  },
  {
   "cell_type": "code",
   "execution_count": 53,
   "id": "642a2dd3",
   "metadata": {},
   "outputs": [
    {
     "name": "stdout",
     "output_type": "stream",
     "text": [
      "{'name': 'abc', 'email': 'abc@gmail.com'}\n",
      "None\n"
     ]
    }
   ],
   "source": [
    "# get() in dictionary return the value of specified key. If key is empty/not specified it returns None\n",
    "input_dict = {\n",
    "    \"college_details\":{\n",
    "        \"name\":\"abc\",\n",
    "        \"email\": \"abc@gmail.com\"\n",
    "    },\n",
    "    \"student_details\":{\n",
    "        \"name\":\"xyz\",\n",
    "        \"email\": \"xyz@gmail.com\"\n",
    "    } \n",
    "}\n",
    "get_access = input_dict.get(\"college_details\")\n",
    "get_access_01 = input_dict.get(\"coll_details\")\n",
    "print(get_access)\n",
    "print(get_access_01)"
   ]
  },
  {
   "cell_type": "markdown",
   "id": "875cb8ec",
   "metadata": {},
   "source": [
    "# Q63. What is the use of items() function?"
   ]
  },
  {
   "cell_type": "code",
   "execution_count": 55,
   "id": "751cfbf2",
   "metadata": {},
   "outputs": [
    {
     "name": "stdout",
     "output_type": "stream",
     "text": [
      "dict_items([('college_details', {'name': 'abc', 'email': 'abc@gmail.com'}), ('student_details', {'name': 'xyz', 'email': 'xyz@gmail.com'})])\n"
     ]
    }
   ],
   "source": [
    "# items() returns a new view of dictionary items\n",
    "input_dict = {\n",
    "    \"college_details\":{\n",
    "        \"name\":\"abc\",\n",
    "        \"email\": \"abc@gmail.com\"\n",
    "    },\n",
    "    \"student_details\":{\n",
    "        \"name\":\"xyz\",\n",
    "        \"email\": \"xyz@gmail.com\"\n",
    "    } \n",
    "}\n",
    "print(input_dict.items())"
   ]
  },
  {
   "cell_type": "markdown",
   "id": "771d330b",
   "metadata": {},
   "source": [
    "# Q64. What is the use of pop() function?"
   ]
  },
  {
   "cell_type": "code",
   "execution_count": 56,
   "id": "c0255836",
   "metadata": {},
   "outputs": [
    {
     "name": "stdout",
     "output_type": "stream",
     "text": [
      "{'name': 'xyz', 'email': 'xyz@gmail.com'}\n",
      "{'college_details': {'name': 'abc', 'email': 'abc@gmail.com'}}\n"
     ]
    }
   ],
   "source": [
    "#pop() removes a particular item from dictionary\n",
    "input_dict = {\n",
    "    \"college_details\":{\n",
    "        \"name\":\"abc\",\n",
    "        \"email\": \"abc@gmail.com\"\n",
    "    },\n",
    "    \"student_details\":{\n",
    "        \"name\":\"xyz\",\n",
    "        \"email\": \"xyz@gmail.com\"\n",
    "    } \n",
    "}\n",
    "print(input_dict.pop(\"student_details\"))\n",
    "print(input_dict)"
   ]
  },
  {
   "cell_type": "markdown",
   "id": "dc28c3de",
   "metadata": {},
   "source": [
    "# Q65. What is the use of popitems() function?"
   ]
  },
  {
   "cell_type": "code",
   "execution_count": 59,
   "id": "9ab25447",
   "metadata": {},
   "outputs": [
    {
     "name": "stdout",
     "output_type": "stream",
     "text": [
      "('student_details', {'name': 'xyz', 'email': 'xyz@gmail.com'})\n",
      "{'college_details': {'name': 'abc', 'email': 'abc@gmail.com'}}\n"
     ]
    }
   ],
   "source": [
    "# The popitem() method removes the item that was last inserted into the dictionary.\n",
    "input_dict = {\n",
    "    \"college_details\":{\n",
    "        \"name\":\"abc\",\n",
    "        \"email\": \"abc@gmail.com\"\n",
    "    },\n",
    "    \"student_details\":{\n",
    "        \"name\":\"xyz\",\n",
    "        \"email\": \"xyz@gmail.com\"\n",
    "    } \n",
    "}\n",
    "print(input_dict.popitem())\n",
    "print(input_dict)"
   ]
  },
  {
   "cell_type": "markdown",
   "id": "68906b6b",
   "metadata": {},
   "source": [
    "# Q66. What is the use of keys() function?"
   ]
  },
  {
   "cell_type": "code",
   "execution_count": 61,
   "id": "48f4aa8b",
   "metadata": {},
   "outputs": [
    {
     "name": "stdout",
     "output_type": "stream",
     "text": [
      "dict_keys(['name', 'skills'])\n"
     ]
    }
   ],
   "source": [
    "# keys() returns all  dictionary keys\n",
    "get_key_dict = {\n",
    "    \"name\": \"abc\",\n",
    "    \"skills\":[\"python\", \"java\"]\n",
    "}\n",
    "print(get_key_dict.keys())"
   ]
  },
  {
   "cell_type": "markdown",
   "id": "dfe79e05",
   "metadata": {},
   "source": [
    "# Q67. What is the use of values() function?"
   ]
  },
  {
   "cell_type": "code",
   "execution_count": 62,
   "id": "6c4fd39a",
   "metadata": {},
   "outputs": [
    {
     "name": "stdout",
     "output_type": "stream",
     "text": [
      "dict_values(['abc', ['python', 'java']])\n"
     ]
    }
   ],
   "source": [
    "# values() returns all dictionary values\n",
    "get_values_dict = {\n",
    "    \"name\": \"abc\",\n",
    "    \"skills\":[\"python\", \"java\"]\n",
    "}\n",
    "print(get_key_dict.values())"
   ]
  },
  {
   "cell_type": "markdown",
   "id": "5ece4b6e",
   "metadata": {},
   "source": [
    "# Q68. What are loops in Python?"
   ]
  },
  {
   "cell_type": "raw",
   "id": "137fa6fd",
   "metadata": {
    "pycharm": {
     "name": "#%% raw\n"
    }
   },
   "source": [
    "loops in python is used to iterate over a block of code for specified time"
   ]
  },
  {
   "cell_type": "markdown",
   "id": "62b8676c",
   "metadata": {},
   "source": [
    "# Q69. How many type of loop are there in Python?"
   ]
  },
  {
   "cell_type": "raw",
   "id": "465d8bd0",
   "metadata": {
    "pycharm": {
     "name": "#%% raw\n"
    }
   },
   "source": [
    "The types of loops in python are mentioned as below\n",
    "a. for loop: It is used to iterate over a sequence(list, tuple, string) or other iterable objects\n",
    "b. while loop: It is used to iterate over a block of code as long as the test expersion(condition) is true."
   ]
  },
  {
   "cell_type": "markdown",
   "id": "50c7064d",
   "metadata": {},
   "source": [
    "# Q70. What is the difference between for and while loops?"
   ]
  },
  {
   "cell_type": "raw",
   "id": "032ab383",
   "metadata": {
    "pycharm": {
     "name": "#%% raw\n"
    }
   },
   "source": [
    "Main difference between for and while loop is that for loops is used when number of iteration is known but\n",
    "while loop is used when no of iteration is not known"
   ]
  },
  {
   "cell_type": "markdown",
   "id": "cddeb6cf",
   "metadata": {},
   "source": [
    "# Q71, 72. What is the use of continue and break statement?"
   ]
  },
  {
   "cell_type": "raw",
   "id": "ab6646e7",
   "metadata": {
    "pycharm": {
     "name": "#%% raw\n"
    }
   },
   "source": [
    "break and continue statements can alter the flow of normal loop\n",
    "Loops iterate over a block of code until test experssion is false but it can be terminate the iteration or the whole loop without checking the expression\n",
    "Syntax for break\n",
    "    break\n",
    "Syntax for break\n",
    "    continue"
   ]
  },
  {
   "cell_type": "markdown",
   "id": "4062be2f",
   "metadata": {},
   "source": [
    "# Q73. What is the use of pass statement?"
   ]
  },
  {
   "cell_type": "code",
   "execution_count": 63,
   "id": "0222187a",
   "metadata": {},
   "outputs": [],
   "source": [
    "# pass statement avoids errors when empty code is not allowed.\n",
    "\n",
    "n = 10\n",
    "for i in range(n):\n",
    "  pass"
   ]
  },
  {
   "cell_type": "markdown",
   "id": "136404c5",
   "metadata": {},
   "source": [
    "# Q74. What is the use of range() function?\n"
   ]
  },
  {
   "cell_type": "code",
   "execution_count": 66,
   "id": "9f4d5653",
   "metadata": {},
   "outputs": [
    {
     "name": "stdout",
     "output_type": "stream",
     "text": [
      "12\n",
      "15\n",
      "18\n",
      "21\n",
      "24\n",
      "27\n"
     ]
    }
   ],
   "source": [
    "# range() fuction generates a sequence of numbers. \n",
    "# we can also define the start, stop and step size as range\n",
    "\n",
    "for i in range(12, 30, 3):\n",
    "    print(i)"
   ]
  },
  {
   "cell_type": "markdown",
   "id": "94aafb8a",
   "metadata": {},
   "source": [
    "# Q75. How can you loop over a dictionary?"
   ]
  },
  {
   "cell_type": "code",
   "execution_count": 67,
   "id": "bfb006ff",
   "metadata": {},
   "outputs": [
    {
     "name": "stdout",
     "output_type": "stream",
     "text": [
      "name : xyz\n",
      "skills : ['java,python']\n",
      "experience : 2\n"
     ]
    }
   ],
   "source": [
    "new_dict = {\n",
    "    \"name\":\"xyz\",\n",
    "    \"skills\":[\"java,python\"],\n",
    "    \"experience\": 2\n",
    "}\n",
    "for key, value in new_dict.items():\n",
    "    print(key,\":\" ,value)"
   ]
  },
  {
   "cell_type": "markdown",
   "id": "f4c9a9af",
   "metadata": {},
   "source": [
    "# Q76. Write a Python program to find the factorial of a given number"
   ]
  },
  {
   "cell_type": "code",
   "execution_count": 68,
   "id": "d0581f06",
   "metadata": {},
   "outputs": [
    {
     "data": {
      "text/plain": "5040"
     },
     "execution_count": 68,
     "metadata": {},
     "output_type": "execute_result"
    }
   ],
   "source": [
    "def factorial():\n",
    "    n = int(input(\"Enter the value to find the factorial of a number: \"))\n",
    "    if n < 0:\n",
    "        print(\"The input value should be greater than or equal to 0\")\n",
    "    if n == 0 or n == 1:\n",
    "        return 1\n",
    "    fact = 1\n",
    "    while(n > 1):\n",
    "        fact = fact * n\n",
    "        n -=1\n",
    "    return fact\n",
    "\n",
    "factorial()\n",
    "        "
   ]
  },
  {
   "cell_type": "markdown",
   "id": "e22f0876",
   "metadata": {},
   "source": [
    "# Q77. Write a Python program to calculate the simple interest. Formula to calculate simple interest is SI = (PRT)/100"
   ]
  },
  {
   "cell_type": "code",
   "execution_count": 70,
   "id": "a13225ae",
   "metadata": {},
   "outputs": [
    {
     "name": "stdout",
     "output_type": "stream",
     "text": [
      "14000.0\n"
     ]
    }
   ],
   "source": [
    "def simple_interest(principle, rate, time):\n",
    "    simple_int = (principle * rate * time)/100\n",
    "    return simple_int\n",
    "\n",
    "print(simple_interest(100000, 3.5, 4))\n",
    "      "
   ]
  },
  {
   "cell_type": "markdown",
   "id": "73f3c211",
   "metadata": {},
   "source": [
    "# Q78. Write a Python program to calculate the compound interest. Formula of compound interest is A = P(1+ R/100)^t.\n"
   ]
  },
  {
   "cell_type": "code",
   "execution_count": 72,
   "id": "d0fdfde1",
   "metadata": {},
   "outputs": [
    {
     "name": "stdout",
     "output_type": "stream",
     "text": [
      "13427.61205760001\n"
     ]
    }
   ],
   "source": [
    "def compound_interest(principle, rate, time):\n",
    "    total_amount = principle*( 1 + (rate/100))** time\n",
    "    comp_interest = total_amount - principle\n",
    "    return comp_interest\n",
    "\n",
    "\n",
    "print(compound_interest(100000, 3.2, 4))"
   ]
  },
  {
   "cell_type": "markdown",
   "id": "d5624161",
   "metadata": {},
   "source": [
    "# Q79. Write a Python program to check if a number is prime or not."
   ]
  },
  {
   "cell_type": "code",
   "execution_count": 73,
   "id": "a48fb95c",
   "metadata": {},
   "outputs": [
    {
     "name": "stdout",
     "output_type": "stream",
     "text": [
      "23 is a prime number\n"
     ]
    }
   ],
   "source": [
    "def prime_number():\n",
    "    number = int(input(\"Enter the value: \"))\n",
    "    if number < 0:\n",
    "        print(\"The number is invalid \")\n",
    "    if number > 1:\n",
    "        for i in range(2, int(number/2)+1):\n",
    "            if (number % i) == 0:\n",
    "                print(\"{} is not a prime number\".format(number))\n",
    "                break\n",
    "        else:\n",
    "            print(\"{} is a prime number\".format(number))\n",
    "\n",
    "prime_number()\n"
   ]
  },
  {
   "cell_type": "markdown",
   "id": "d812820d",
   "metadata": {},
   "source": [
    "# Q80. Write a Python program to check Armstrong Number."
   ]
  },
  {
   "cell_type": "code",
   "execution_count": 74,
   "id": "f06e8eaf",
   "metadata": {},
   "outputs": [
    {
     "name": "stdout",
     "output_type": "stream",
     "text": [
      "555 is not a armstrong number\n"
     ]
    }
   ],
   "source": [
    "def armstrong_number():\n",
    "    number  = input(\"Enter the number:\")\n",
    "    number = int(number)\n",
    "    s = number\n",
    "    b = len(str(number))\n",
    "    total = 0\n",
    "    while number != 0:\n",
    "        r = number % 10\n",
    "        total = total + (r**b)\n",
    "        number = number//10\n",
    "    if s == total:\n",
    "        print(\"{} is a armstrong number\".format(s))\n",
    "    else:\n",
    "         print(\"{} is not a armstrong number\".format(s))\n",
    "            \n",
    "armstrong_number()"
   ]
  },
  {
   "cell_type": "markdown",
   "id": "2743382f",
   "metadata": {},
   "source": [
    "# Q81. Write a Python program to find the n-th Fibonacci Number."
   ]
  },
  {
   "cell_type": "code",
   "execution_count": 76,
   "id": "c3e50639",
   "metadata": {},
   "outputs": [
    {
     "name": "stdout",
     "output_type": "stream",
     "text": [
      "377\n"
     ]
    }
   ],
   "source": [
    "def fibanacci_number(n):\n",
    "    if n <= 0:\n",
    "        return \"the number entered is invalid\"\n",
    "    number_input = [0,1]\n",
    "    if n > 2:\n",
    "        for i in range(2, n):\n",
    "            number_input.append(number_input[i-2] + number_input[i-1])\n",
    "        return number_input[n-1]\n",
    "\n",
    "\n",
    "print(fibanacci_number(15))"
   ]
  },
  {
   "cell_type": "markdown",
   "id": "24781dc9",
   "metadata": {},
   "source": [
    "# Q82. Write a Python program to interchange the first and last element in a list."
   ]
  },
  {
   "cell_type": "code",
   "execution_count": 80,
   "id": "83a7a053",
   "metadata": {},
   "outputs": [
    {
     "name": "stdout",
     "output_type": "stream",
     "text": [
      "Before interchanging the value of first and last element is:  32 786\n",
      "After interchanging the value of first and last element is:  786 32\n",
      "[786, 178, 234, 32]\n"
     ]
    }
   ],
   "source": [
    "def interchange_elements_in_list(list_value):\n",
    "    try:\n",
    "        print(\"Before interchanging the value of first and last element is: \", list_value[0], list_value[-1])\n",
    "        temp = list_value[0]\n",
    "        list_value[0] = list_value[-1]\n",
    "        list_value[-1] = temp\n",
    "        print(\"After interchanging the value of first and last element is: \", list_value[0], list_value[-1])\n",
    "        return list_value\n",
    "    except IndexError:\n",
    "        print(\"The value entered should be less then length in list\")\n",
    "\n",
    "\n",
    "print(interchange_elements_in_list([32, 178, 234, 786]))"
   ]
  },
  {
   "cell_type": "markdown",
   "id": "39095a3a",
   "metadata": {},
   "source": [
    "# Q83. Write a Python program to swap two elements in a list."
   ]
  },
  {
   "cell_type": "code",
   "execution_count": 82,
   "id": "5923a80a",
   "metadata": {},
   "outputs": [
    {
     "name": "stdout",
     "output_type": "stream",
     "text": [
      "Note: the value of index starts from 0\n",
      "Before swapping the value of element_1 and element_2 is:  17 378\n",
      "After swapping the value of element_1 and element_2 is:  378 17\n",
      "[812, 17, 84, 378]\n"
     ]
    }
   ],
   "source": [
    "def swap_elements_in_list(list_value):\n",
    "    try:\n",
    "        print(\"Note: the value of index starts from 0\")\n",
    "        element_1 = int(input(\"Enter the position of element_1: \"))\n",
    "        element_2 = int(input(\"Enter the position of element_2: \"))\n",
    "        print(\"Before swapping the value of element_1 and element_2 is: \", list_value[element_1], list_value[element_2])\n",
    "        temp = list_value[element_1]\n",
    "        list_value[element_1] = list_value[element_2]\n",
    "        list_value[element_2] = temp\n",
    "        print(\"After swapping the value of element_1 and element_2 is: \", list_value[element_1], list_value[element_2])\n",
    "        return list_value\n",
    "    except IndexError:\n",
    "        print(\"The value entered should be less then length in list\")\n",
    "\n",
    "\n",
    "print(swap_elements_in_list([812, 378, 84, 17]))"
   ]
  },
  {
   "cell_type": "markdown",
   "id": "c086db51",
   "metadata": {},
   "source": [
    "# Q84. Write a Python program to find N largest element from a list."
   ]
  },
  {
   "cell_type": "code",
   "execution_count": 84,
   "id": "47f7a824",
   "metadata": {},
   "outputs": [
    {
     "name": "stdout",
     "output_type": "stream",
     "text": [
      "[99, 65]\n"
     ]
    }
   ],
   "source": [
    "def largest_ele_in_list(list_value):\n",
    "    n_element = input(\"Enter the nth largest element\")\n",
    "    new_list = []\n",
    "    for i in range(0, int(n_element)):\n",
    "        max_num = 0\n",
    "        for j in range(len(list_value)):\n",
    "            if list_value[j] > max_num:\n",
    "                max_num = list_value[j]\n",
    "        list_value.remove(max_num)\n",
    "        new_list.append(max_num)\n",
    "    print(new_list)\n",
    "    \n",
    "\n",
    "largest_ele_in_list([65, 18, 99, 0, 37, 10])"
   ]
  },
  {
   "cell_type": "markdown",
   "id": "706414bc",
   "metadata": {},
   "source": [
    "# Q85. Write a Python program to find cumulative sum of a list."
   ]
  },
  {
   "cell_type": "code",
   "execution_count": 85,
   "id": "b4bb1967",
   "metadata": {},
   "outputs": [
    {
     "name": "stdout",
     "output_type": "stream",
     "text": [
      "[22, 26, 87, 114, 132]\n"
     ]
    }
   ],
   "source": [
    "def cumilative_list():\n",
    "    input_list = [22, 4, 61, 27, 18]\n",
    "    cumilative_lists = list()\n",
    "    sum = 0\n",
    "    for i in input_list:\n",
    "        sum = sum + i\n",
    "        cumilative_lists.append(sum)\n",
    "    print(cumilative_lists)\n",
    "\n",
    "cumilative_list()"
   ]
  },
  {
   "cell_type": "markdown",
   "id": "aa57ce88",
   "metadata": {},
   "source": [
    "# Q86. Write a Python program to check if a string is palindrome or not."
   ]
  },
  {
   "cell_type": "code",
   "execution_count": 91,
   "id": "7109ffec",
   "metadata": {},
   "outputs": [
    {
     "name": "stdout",
     "output_type": "stream",
     "text": [
      "the given value is palindrome\n"
     ]
    }
   ],
   "source": [
    "def palindrome():\n",
    "    string_input = input(\"Enter the value: \")\n",
    "    reverse_string  = string_input[::-1]\n",
    "    if string_input == reverse_string:\n",
    "        print(\"the given value is palindrome\")\n",
    "    else:\n",
    "        print(\"the given value is not palindrome\")\n",
    "\n",
    "palindrome()"
   ]
  },
  {
   "cell_type": "markdown",
   "id": "e4fa12a5",
   "metadata": {},
   "source": [
    "# Q87. Write a Python program to remove i'th element from a string"
   ]
  },
  {
   "cell_type": "code",
   "execution_count": 92,
   "id": "ae7ea124",
   "metadata": {},
   "outputs": [
    {
     "name": "stdout",
     "output_type": "stream",
     "text": [
      "2\n"
     ]
    }
   ],
   "source": [
    "def remove_element():\n",
    "    str_input = input(\"Enter the string: \")\n",
    "    element_to_removed = input(\"Enter the position of string to be removed: \")\n",
    "    updated_string = \"\"\n",
    "    for i in range(len(str_input)):\n",
    "        if i != int(element_to_removed)-1:\n",
    "            updated_string = updated_string + str_input[i]\n",
    "    print(updated_string)\n",
    "    \n",
    "remove_element()"
   ]
  },
  {
   "cell_type": "markdown",
   "id": "c15c9b84",
   "metadata": {},
   "source": [
    "# Q88. Write a Python program to check if a substring is present in a given string"
   ]
  },
  {
   "cell_type": "code",
   "execution_count": 94,
   "id": "64ed05fc",
   "metadata": {},
   "outputs": [
    {
     "name": "stdout",
     "output_type": "stream",
     "text": [
      "! substring is present in given string of hi there !!\n"
     ]
    }
   ],
   "source": [
    "def check_substring():\n",
    "    string_input = input(\"Enter the string: \")\n",
    "    sub_string_check = input(\"Enter the substring to be checked: \")\n",
    "    if sub_string_check in string_input:\n",
    "        print(\"{} substring is present in given string of {}\".format(sub_string_check,string_input))\n",
    "    else:\n",
    "        print(\"{} substring is not present in given string of {}\".format(sub_string_check,string_input) )\n",
    "\n",
    "check_substring()\n"
   ]
  },
  {
   "cell_type": "markdown",
   "id": "b52892ca",
   "metadata": {},
   "source": [
    "# Q89. Write a Python program to find words which are greater than given length k."
   ]
  },
  {
   "cell_type": "code",
   "execution_count": 97,
   "id": "7136dd5a",
   "metadata": {},
   "outputs": [
    {
     "name": "stdout",
     "output_type": "stream",
     "text": [
      "['engineering', 'field']\n"
     ]
    }
   ],
   "source": [
    "def word_greater_than_length():\n",
    "    string_input = input(\"Enter the string: \")\n",
    "    length_of_word = len(input(\"Enter the length: \"))\n",
    "    split_string = string_input.split()\n",
    "    new_list = list()\n",
    "    for value in split_string:\n",
    "        if len(value) > int(length_of_word):\n",
    "            new_list.append(value)\n",
    "    print(new_list)\n",
    "\n",
    "\n",
    "word_greater_than_length()"
   ]
  },
  {
   "cell_type": "markdown",
   "id": "ff358afa",
   "metadata": {},
   "source": [
    "# Q90. Write a Python program to extract unquire dictionary values."
   ]
  },
  {
   "cell_type": "code",
   "execution_count": 98,
   "id": "64e34a60",
   "metadata": {},
   "outputs": [
    {
     "name": "stdout",
     "output_type": "stream",
     "text": [
      "ert\n",
      "kjl\n",
      "iot\n",
      "ipo\n",
      "{'ert', 'kjl', 'ipo', 'iot'}\n"
     ]
    }
   ],
   "source": [
    "def unique_dict_values():\n",
    "    dict_1 = {\n",
    "        \"abc\": \"ert\",\n",
    "        \"bac\": \"kjl\",\n",
    "        \"rty\": \"iot\",\n",
    "        \"xyz\": \"ipo\"\n",
    "    }\n",
    "    unique_values = set()\n",
    "    for values in dict_1.values():\n",
    "        print(values)\n",
    "        unique_values.add(values)\n",
    "    print(unique_values)\n",
    "    \n",
    "unique_dict_values()"
   ]
  },
  {
   "cell_type": "markdown",
   "id": "744b764d",
   "metadata": {},
   "source": [
    "# Q91. Write a Python program to merge two dictionary."
   ]
  },
  {
   "cell_type": "code",
   "execution_count": 100,
   "id": "18485a9b",
   "metadata": {},
   "outputs": [
    {
     "name": "stdout",
     "output_type": "stream",
     "text": [
      "{'name': 'xyz', 'email': 'xyz@gmail.com'}\n"
     ]
    }
   ],
   "source": [
    "def merge_dict():\n",
    "    dict_01 = {\n",
    "        \"name\":\"abc\",\n",
    "        \"email\":\"abc@gmail.com\"\n",
    "    }\n",
    "    dict_02 = {\n",
    "        \"name\":\"xyz\",\n",
    "        \"email\":\"xyz@gmail.com\"\n",
    "    }\n",
    "    dict_01.update(dict_02)\n",
    "    return dict_01\n",
    "    \n",
    "print(merge_dict())\n"
   ]
  },
  {
   "cell_type": "markdown",
   "id": "dd336d02",
   "metadata": {},
   "source": [
    "# Q92. Write a Python program to convert a list of tuples into dictionary.\n",
    "\n",
    "Input : [('Sachin', 10), ('MSD', 7), ('Kohli', 18), ('Rohit', 45)]\n",
    "\n",
    "Output : {'Sachin': 10, 'MSD': 7, 'Kohli': 18, 'Rohit': 45}"
   ]
  },
  {
   "cell_type": "code",
   "execution_count": 101,
   "id": "dd726d3e",
   "metadata": {},
   "outputs": [
    {
     "name": "stdout",
     "output_type": "stream",
     "text": [
      "{'Sachin': 10, 'MSD': 7, 'Kohli': 18, 'Rohit': 45}\n"
     ]
    }
   ],
   "source": [
    "def list_of_tuple_to_dict():\n",
    "    list_of_tuple = [('Sachin', 10), ('MSD', 7), ('Kohli', 18), ('Rohit', 45)]\n",
    "    new_dict = dict(list_of_tuple)\n",
    "    print(new_dict)\n",
    "    \n",
    "list_of_tuple_to_dict()"
   ]
  },
  {
   "cell_type": "markdown",
   "id": "e62270a6",
   "metadata": {},
   "source": [
    "# Q93. Write a Python program to create a list of tuples from given list having number and its cube in each tuple."
   ]
  },
  {
   "cell_type": "code",
   "execution_count": 104,
   "id": "1ea41187",
   "metadata": {},
   "outputs": [
    {
     "data": {
      "text/plain": "[(91, 753571), (25, 15625), (61, 226981), (3, 27)]"
     },
     "execution_count": 104,
     "metadata": {},
     "output_type": "execute_result"
    }
   ],
   "source": [
    "def cube_of_numberss():\n",
    "\n",
    "    list_input = [91, 25, 61,3]\n",
    "    new_list = list()\n",
    "    for i in range(0, len(list_input)):\n",
    "        cube_of_number = list_input[i] ** 3\n",
    "        new_list.append((list_input[i], cube_of_number))\n",
    "    return new_list\n",
    "\n",
    "cube_of_numberss()"
   ]
  },
  {
   "cell_type": "markdown",
   "id": "c9689cd0",
   "metadata": {},
   "source": [
    "# Q94. Write a Python program to get all combinations of 2 tuples."
   ]
  },
  {
   "cell_type": "code",
   "execution_count": 105,
   "id": "fe4d79e2",
   "metadata": {},
   "outputs": [
    {
     "name": "stdout",
     "output_type": "stream",
     "text": [
      "[(7, 9), (7, 2), (3, 9), (3, 2), (9, 7), (9, 3), (2, 7), (2, 3)]\n"
     ]
    }
   ],
   "source": [
    "def comnination_of_tuples():\n",
    "    tuple_1 = (9, 2)\n",
    "    tuple_2 = (7, 3)\n",
    "    new_list = list()\n",
    "    final_list = list()\n",
    "    for i in tuple_1:\n",
    "        for j in tuple_2:\n",
    "            new_list.append((i, j))\n",
    "    for x in tuple_2:\n",
    "        for y in tuple_1:\n",
    "            final_list.append((x, y))\n",
    "    final_list = final_list + new_list\n",
    "    print(final_list)\n",
    "\n",
    "\n",
    "comnination_of_tuples()"
   ]
  },
  {
   "cell_type": "markdown",
   "id": "cecacd62",
   "metadata": {},
   "source": [
    "# Q95. Write a Python program to sort a list of tuples by second item."
   ]
  },
  {
   "cell_type": "code",
   "execution_count": 106,
   "id": "fe51493f",
   "metadata": {},
   "outputs": [
    {
     "name": "stdout",
     "output_type": "stream",
     "text": [
      "[('noobs', 8), ('for', 24), ('noobs', 30)]\n"
     ]
    }
   ],
   "source": [
    "def sort_list_of_tuples():\n",
    "    input_list_of_tuples = [('for', 24), ('noobs', 8), ('noobs', 30)]\n",
    "    input_list_of_tuples.sort(key = lambda x: x[1])\n",
    "    print(input_list_of_tuples)\n",
    "\n",
    "sort_list_of_tuples()"
   ]
  },
  {
   "cell_type": "markdown",
   "id": "632a9b5d",
   "metadata": {},
   "source": [
    "# Q96. Write a python program to print below pattern.\n"
   ]
  },
  {
   "cell_type": "code",
   "execution_count": 111,
   "outputs": [
    {
     "name": "stdout",
     "output_type": "stream",
     "text": [
      "*\n",
      "**\n",
      "***\n",
      "****\n",
      "*****\n",
      "******\n",
      "*******\n"
     ]
    }
   ],
   "source": [
    "def star_pattern(n):\n",
    "    for i in range(n):\n",
    "            print(\"*\"*(i+1))\n",
    "\n",
    "\n",
    "star_pattern(7)"
   ],
   "metadata": {
    "collapsed": false,
    "pycharm": {
     "name": "#%%\n"
    }
   }
  },
  {
   "cell_type": "markdown",
   "id": "0c5940a4",
   "metadata": {},
   "source": [
    "# Q97. Write a python program to print below pattern."
   ]
  },
  {
   "cell_type": "code",
   "execution_count": 116,
   "outputs": [
    {
     "name": "stdout",
     "output_type": "stream",
     "text": [
      "       *\n",
      "      **\n",
      "     ***\n",
      "    ****\n",
      "   *****\n",
      "  ******\n",
      " *******\n"
     ]
    }
   ],
   "source": [
    "def reverse_pattern(n):\n",
    "    for i in range(n):\n",
    "        print(\" \"*n+\"*\"*(i+1))\n",
    "        n-=1\n",
    "\n",
    "reverse_pattern(7)"
   ],
   "metadata": {
    "collapsed": false,
    "pycharm": {
     "name": "#%%\n"
    }
   }
  },
  {
   "cell_type": "markdown",
   "id": "bf7eaf54",
   "metadata": {},
   "source": [
    "# Q99. Write a python program to print below pattern.\n"
   ]
  },
  {
   "cell_type": "code",
   "execution_count": 118,
   "id": "489bc0c6",
   "metadata": {},
   "outputs": [
    {
     "name": "stdout",
     "output_type": "stream",
     "text": [
      "1 \r\n",
      "1 2 \r\n",
      "1 2 3 \r\n",
      "1 2 3 4 \r\n",
      "1 2 3 4 5 \r\n"
     ]
    }
   ],
   "source": [
    "def number_pattern(n):\n",
    "    for i in range(n):\n",
    "        for j in range(i+1):\n",
    "            print(j+1, end=' ')\n",
    "        print(\"\\r\")\n",
    "\n",
    "number_pattern(5)"
   ]
  },
  {
   "cell_type": "markdown",
   "id": "d6c14b3d",
   "metadata": {},
   "source": [
    "# Q98. Write a python program to print below pattern."
   ]
  },
  {
   "cell_type": "code",
   "execution_count": 142,
   "id": "06cf13d5",
   "metadata": {},
   "outputs": [
    {
     "name": "stdout",
     "output_type": "stream",
     "text": [
      "     *\r\n",
      "    ***\r\n",
      "   *****\r\n",
      "  *******\r\n",
      " *********\r\n"
     ]
    }
   ],
   "source": [
    "def triangle_pattern(n):\n",
    "    for i in range(n):\n",
    "        for j in range(i,n):\n",
    "            print(\"\", end=' ')\n",
    "        for j in range(i):\n",
    "            print(\"*\", end=\"\")\n",
    "        for j in range(i+1):\n",
    "            print(\"*\", end=\"\")\n",
    "        print(\"\\r\")\n",
    "\n",
    "triangle_pattern(5)"
   ]
  },
  {
   "cell_type": "markdown",
   "id": "1da24ee7",
   "metadata": {},
   "source": [
    "# 100. Write a python program to print below pattern."
   ]
  },
  {
   "cell_type": "code",
   "execution_count": 141,
   "id": "b23963cc",
   "metadata": {
    "pycharm": {
     "name": "#%%\n"
    }
   },
   "outputs": [
    {
     "name": "stdout",
     "output_type": "stream",
     "text": [
      "A\n",
      "BB\n",
      "CCC\n",
      "DDDD\n",
      "EEEEE\n"
     ]
    }
   ],
   "source": [
    "def star_pattern(n):\n",
    "    num = 65\n",
    "    for i in range(n):\n",
    "        print(chr(num)*(i+1))\n",
    "        num+= 1\n",
    "\n",
    "\n",
    "star_pattern(5)"
   ]
  }
 ],
 "metadata": {
  "kernelspec": {
   "display_name": "Python 3 (ipykernel)",
   "language": "python",
   "name": "python3"
  },
  "language_info": {
   "codemirror_mode": {
    "name": "ipython",
    "version": 3
   },
   "file_extension": ".py",
   "mimetype": "text/x-python",
   "name": "python",
   "nbconvert_exporter": "python",
   "pygments_lexer": "ipython3",
   "version": "3.9.7"
  }
 },
 "nbformat": 4,
 "nbformat_minor": 5
}